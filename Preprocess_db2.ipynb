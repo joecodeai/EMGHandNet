{
 "cells": [
  {
   "cell_type": "code",
   "execution_count": 8,
   "id": "cbb745d6",
   "metadata": {},
   "outputs": [],
   "source": [
    "from scipy.io import loadmat\n",
    "import pandas as pd\n",
    "import numpy as np\n",
    "import matplotlib.pyplot as plt\n",
    "import os"
   ]
  },
  {
   "cell_type": "code",
   "execution_count": 9,
   "id": "1f7f9542",
   "metadata": {},
   "outputs": [
    {
     "name": "stdout",
     "output_type": "stream",
     "text": [
      "C:\\Users\\joelt\\Desktop\\Jupyter\\Nina_DB1\\DB2_s1\\S1_E1_A1.mat\n",
      "C:\\Users\\joelt\\Desktop\\Jupyter\\Nina_DB1\\DB2_s1\\S1_E2_A1.mat\n",
      "C:\\Users\\joelt\\Desktop\\Jupyter\\Nina_DB1\\DB2_s1\\S1_E3_A1.mat\n"
     ]
    }
   ],
   "source": [
    "dir_path = r'C:\\Users\\joelt\\Desktop\\Jupyter\\Nina_DB1\\DB2_s1'\n",
    "file_path_list = []\n",
    "dir_list = []\n",
    "file_type = []\n",
    "for (root, directories, files) in os.walk(dir_path):\n",
    "    for d in directories:\n",
    "        d_path = os.path.join(root,d)\n",
    "        dir_list.append(d)\n",
    "        print(d)\n",
    "        \n",
    "    for file in files:\n",
    "        file_path = os.path.join(root,file)\n",
    "        file_path_list.append(file_path)\n",
    "        if (\"E3\" in file):\n",
    "            file_type.append(\"E3\")\n",
    "        elif (\"E2\" in file):\n",
    "            file_type.append(\"E2\")\n",
    "        else:\n",
    "            file_type.append(\"E1\")\n",
    "        print(file_path)"
   ]
  },
  {
   "cell_type": "code",
   "execution_count": 10,
   "id": "8ceb6ad8",
   "metadata": {},
   "outputs": [],
   "source": [
    "#, 'force', 'forcecal', 'acc', 'inclin'\n",
    "train = pd.DataFrame(columns=['emg', 'stimulus', 'restimulus', 'repetition','rerepetition'])\n",
    "test = pd.DataFrame(columns=['emg', 'stimulus', 'restimulus', 'repetition','rerepetition'])"
   ]
  },
  {
   "cell_type": "code",
   "execution_count": 11,
   "id": "b732754c",
   "metadata": {},
   "outputs": [],
   "source": [
    "now = 100;\n",
    "start=0;\n",
    "end = 0;\n",
    "idx=-1;"
   ]
  },
  {
   "cell_type": "code",
   "execution_count": 12,
   "id": "542d101d",
   "metadata": {},
   "outputs": [
    {
     "ename": "ValueError",
     "evalue": "Must have equal len keys and value when setting with an ndarray",
     "output_type": "error",
     "traceback": [
      "\u001b[1;31m---------------------------------------------------------------------------\u001b[0m",
      "\u001b[1;31mValueError\u001b[0m                                Traceback (most recent call last)",
      "Cell \u001b[1;32mIn[12], line 10\u001b[0m\n\u001b[0;32m      8\u001b[0m \u001b[38;5;28;01mif\u001b[39;00m(res[\u001b[38;5;124m'\u001b[39m\u001b[38;5;124mstimulus\u001b[39m\u001b[38;5;124m'\u001b[39m][i\u001b[38;5;241m+\u001b[39m\u001b[38;5;241m1\u001b[39m][\u001b[38;5;241m0\u001b[39m] \u001b[38;5;241m!=\u001b[39m now \u001b[38;5;129;01mand\u001b[39;00m now \u001b[38;5;241m!=\u001b[39m\u001b[38;5;241m0\u001b[39m \u001b[38;5;129;01mand\u001b[39;00m (res[\u001b[38;5;124m'\u001b[39m\u001b[38;5;124mrepetition\u001b[39m\u001b[38;5;124m'\u001b[39m][i] \u001b[38;5;129;01mnot\u001b[39;00m \u001b[38;5;129;01min\u001b[39;00m (\u001b[38;5;241m2\u001b[39m,\u001b[38;5;241m5\u001b[39m,\u001b[38;5;241m7\u001b[39m,\u001b[38;5;241m8\u001b[39m,\u001b[38;5;241m9\u001b[39m,\u001b[38;5;241m10\u001b[39m) )):\n\u001b[0;32m      9\u001b[0m     idx\u001b[38;5;241m+\u001b[39m\u001b[38;5;241m=\u001b[39m\u001b[38;5;241m1\u001b[39m\n\u001b[1;32m---> 10\u001b[0m     train\u001b[38;5;241m.\u001b[39mloc[idx,\u001b[38;5;124m'\u001b[39m\u001b[38;5;124memg\u001b[39m\u001b[38;5;124m'\u001b[39m]\u001b[38;5;241m=\u001b[39mres[\u001b[38;5;124m'\u001b[39m\u001b[38;5;124memg\u001b[39m\u001b[38;5;124m'\u001b[39m][start:i]\n\u001b[0;32m     11\u001b[0m     \u001b[38;5;28;01mif\u001b[39;00m (file_type[j]\u001b[38;5;241m==\u001b[39m\u001b[38;5;124m\"\u001b[39m\u001b[38;5;124mE3\u001b[39m\u001b[38;5;124m\"\u001b[39m):\n\u001b[0;32m     12\u001b[0m         now \u001b[38;5;241m=\u001b[39m now\u001b[38;5;241m+\u001b[39m\u001b[38;5;241m29\u001b[39m\n",
      "File \u001b[1;32mD:\\Anaconda\\lib\\site-packages\\pandas\\core\\indexing.py:818\u001b[0m, in \u001b[0;36m_LocationIndexer.__setitem__\u001b[1;34m(self, key, value)\u001b[0m\n\u001b[0;32m    815\u001b[0m \u001b[38;5;28mself\u001b[39m\u001b[38;5;241m.\u001b[39m_has_valid_setitem_indexer(key)\n\u001b[0;32m    817\u001b[0m iloc \u001b[38;5;241m=\u001b[39m \u001b[38;5;28mself\u001b[39m \u001b[38;5;28;01mif\u001b[39;00m \u001b[38;5;28mself\u001b[39m\u001b[38;5;241m.\u001b[39mname \u001b[38;5;241m==\u001b[39m \u001b[38;5;124m\"\u001b[39m\u001b[38;5;124miloc\u001b[39m\u001b[38;5;124m\"\u001b[39m \u001b[38;5;28;01melse\u001b[39;00m \u001b[38;5;28mself\u001b[39m\u001b[38;5;241m.\u001b[39mobj\u001b[38;5;241m.\u001b[39miloc\n\u001b[1;32m--> 818\u001b[0m \u001b[43miloc\u001b[49m\u001b[38;5;241;43m.\u001b[39;49m\u001b[43m_setitem_with_indexer\u001b[49m\u001b[43m(\u001b[49m\u001b[43mindexer\u001b[49m\u001b[43m,\u001b[49m\u001b[43m \u001b[49m\u001b[43mvalue\u001b[49m\u001b[43m,\u001b[49m\u001b[43m \u001b[49m\u001b[38;5;28;43mself\u001b[39;49m\u001b[38;5;241;43m.\u001b[39;49m\u001b[43mname\u001b[49m\u001b[43m)\u001b[49m\n",
      "File \u001b[1;32mD:\\Anaconda\\lib\\site-packages\\pandas\\core\\indexing.py:1795\u001b[0m, in \u001b[0;36m_iLocIndexer._setitem_with_indexer\u001b[1;34m(self, indexer, value, name)\u001b[0m\n\u001b[0;32m   1792\u001b[0m \u001b[38;5;66;03m# align and set the values\u001b[39;00m\n\u001b[0;32m   1793\u001b[0m \u001b[38;5;28;01mif\u001b[39;00m take_split_path:\n\u001b[0;32m   1794\u001b[0m     \u001b[38;5;66;03m# We have to operate column-wise\u001b[39;00m\n\u001b[1;32m-> 1795\u001b[0m     \u001b[38;5;28;43mself\u001b[39;49m\u001b[38;5;241;43m.\u001b[39;49m\u001b[43m_setitem_with_indexer_split_path\u001b[49m\u001b[43m(\u001b[49m\u001b[43mindexer\u001b[49m\u001b[43m,\u001b[49m\u001b[43m \u001b[49m\u001b[43mvalue\u001b[49m\u001b[43m,\u001b[49m\u001b[43m \u001b[49m\u001b[43mname\u001b[49m\u001b[43m)\u001b[49m\n\u001b[0;32m   1796\u001b[0m \u001b[38;5;28;01melse\u001b[39;00m:\n\u001b[0;32m   1797\u001b[0m     \u001b[38;5;28mself\u001b[39m\u001b[38;5;241m.\u001b[39m_setitem_single_block(indexer, value, name)\n",
      "File \u001b[1;32mD:\\Anaconda\\lib\\site-packages\\pandas\\core\\indexing.py:1834\u001b[0m, in \u001b[0;36m_iLocIndexer._setitem_with_indexer_split_path\u001b[1;34m(self, indexer, value, name)\u001b[0m\n\u001b[0;32m   1831\u001b[0m     \u001b[38;5;28mself\u001b[39m\u001b[38;5;241m.\u001b[39m_setitem_with_indexer_frame_value(indexer, value, name)\n\u001b[0;32m   1833\u001b[0m \u001b[38;5;28;01melif\u001b[39;00m np\u001b[38;5;241m.\u001b[39mndim(value) \u001b[38;5;241m==\u001b[39m \u001b[38;5;241m2\u001b[39m:\n\u001b[1;32m-> 1834\u001b[0m     \u001b[38;5;28;43mself\u001b[39;49m\u001b[38;5;241;43m.\u001b[39;49m\u001b[43m_setitem_with_indexer_2d_value\u001b[49m\u001b[43m(\u001b[49m\u001b[43mindexer\u001b[49m\u001b[43m,\u001b[49m\u001b[43m \u001b[49m\u001b[43mvalue\u001b[49m\u001b[43m)\u001b[49m\n\u001b[0;32m   1836\u001b[0m \u001b[38;5;28;01melif\u001b[39;00m \u001b[38;5;28mlen\u001b[39m(ilocs) \u001b[38;5;241m==\u001b[39m \u001b[38;5;241m1\u001b[39m \u001b[38;5;129;01mand\u001b[39;00m lplane_indexer \u001b[38;5;241m==\u001b[39m \u001b[38;5;28mlen\u001b[39m(value) \u001b[38;5;129;01mand\u001b[39;00m \u001b[38;5;129;01mnot\u001b[39;00m is_scalar(pi):\n\u001b[0;32m   1837\u001b[0m     \u001b[38;5;66;03m# We are setting multiple rows in a single column.\u001b[39;00m\n\u001b[0;32m   1838\u001b[0m     \u001b[38;5;28mself\u001b[39m\u001b[38;5;241m.\u001b[39m_setitem_single_column(ilocs[\u001b[38;5;241m0\u001b[39m], value, pi)\n",
      "File \u001b[1;32mD:\\Anaconda\\lib\\site-packages\\pandas\\core\\indexing.py:1900\u001b[0m, in \u001b[0;36m_iLocIndexer._setitem_with_indexer_2d_value\u001b[1;34m(self, indexer, value)\u001b[0m\n\u001b[0;32m   1898\u001b[0m value \u001b[38;5;241m=\u001b[39m np\u001b[38;5;241m.\u001b[39marray(value, dtype\u001b[38;5;241m=\u001b[39m\u001b[38;5;28mobject\u001b[39m)\n\u001b[0;32m   1899\u001b[0m \u001b[38;5;28;01mif\u001b[39;00m \u001b[38;5;28mlen\u001b[39m(ilocs) \u001b[38;5;241m!=\u001b[39m value\u001b[38;5;241m.\u001b[39mshape[\u001b[38;5;241m1\u001b[39m]:\n\u001b[1;32m-> 1900\u001b[0m     \u001b[38;5;28;01mraise\u001b[39;00m \u001b[38;5;167;01mValueError\u001b[39;00m(\n\u001b[0;32m   1901\u001b[0m         \u001b[38;5;124m\"\u001b[39m\u001b[38;5;124mMust have equal len keys and value when setting with an ndarray\u001b[39m\u001b[38;5;124m\"\u001b[39m\n\u001b[0;32m   1902\u001b[0m     )\n\u001b[0;32m   1904\u001b[0m \u001b[38;5;28;01mfor\u001b[39;00m i, loc \u001b[38;5;129;01min\u001b[39;00m \u001b[38;5;28menumerate\u001b[39m(ilocs):\n\u001b[0;32m   1905\u001b[0m     \u001b[38;5;66;03m# setting with a list, re-coerces\u001b[39;00m\n\u001b[0;32m   1906\u001b[0m     \u001b[38;5;28mself\u001b[39m\u001b[38;5;241m.\u001b[39m_setitem_single_column(loc, value[:, i]\u001b[38;5;241m.\u001b[39mtolist(), pi)\n",
      "\u001b[1;31mValueError\u001b[0m: Must have equal len keys and value when setting with an ndarray"
     ]
    }
   ],
   "source": [
    "path = r'C:\\Users\\joelt\\Desktop\\Jupyter\\Nina_DB1\\DB2_s1\\S1_E1_A1.mat'\n",
    "for j,file_path in enumerate(file_path_list):\n",
    "    res = loadmat(path)\n",
    "    for i in range(len(res['emg'])-1):\n",
    "        if(res['stimulus'][i][0] != now):\n",
    "            now = res['stimulus'][i][0]\n",
    "            start= i\n",
    "        if(res['stimulus'][i+1][0] != now and now !=0 and (res['repetition'][i] not in (2,5,7,8,9,10) )):\n",
    "            idx+=1\n",
    "            train.loc[idx,'emg']=res['emg'][start:i]\n",
    "            if (file_type[j]==\"E3\"):\n",
    "                now = now+29\n",
    "            elif (file_type[j]==\"E2\"):\n",
    "                now = now+12\n",
    "            train.loc[idx,'stimulus']=now-1\n",
    "            train.loc[idx,'repetition']= f'{res[\"repetition\"][i][0]}'\n",
    "            train.loc[idx,'subject'] = f'subject{int(j/3)+1}'    \n",
    "            train.loc[idx,'rerepetition']= f'{res[\"rerepetition\"][i][0]}'\n",
    "            train.loc[idx,'restimulus']= f'{res[\"restimulus\"][i][0]-1}'  "
   ]
  },
  {
   "cell_type": "code",
   "execution_count": null,
   "id": "1a8e5ae8",
   "metadata": {},
   "outputs": [],
   "source": [
    "train.to_pickle('nina_db2_train.pk1')"
   ]
  },
  {
   "cell_type": "code",
   "execution_count": null,
   "id": "52bbab7e",
   "metadata": {},
   "outputs": [],
   "source": [
    "now = 100;\n",
    "start=0;\n",
    "end = 0;\n",
    "idx=-1;"
   ]
  },
  {
   "cell_type": "code",
   "execution_count": null,
   "id": "e7de8886",
   "metadata": {},
   "outputs": [],
   "source": [
    "for j,file_path in enumerate(file_path_list):\n",
    "    res = loadmat(path)\n",
    "    for i in range(len(res['emg'])-1):\n",
    "        if(res['stimulus'][i][0] != now):\n",
    "            now = res['stimulus'][i][0]\n",
    "            start= i\n",
    "        if(res['stimulus'][i+1][0] != now and now !=0 and (res['repetition'][i] not in (1,3,4,6,7,8,9,10) )):\n",
    "            idx+=1\n",
    "            test.loc[idx,'emg']=res['emg'][start:i]\n",
    "            if (file_type[j]==\"E3\"):\n",
    "                now = now+29\n",
    "            elif (file_type[j]==\"E2\"):\n",
    "                now = now+12\n",
    "            test.loc[idx,'stimulus']=now-1\n",
    "            test.loc[idx,'repetition']= f'{res[\"repetition\"][i][0]}'\n",
    "            test.loc[idx,'subject'] = f'subject{int(j/3)+1}'    \n",
    "            test.loc[idx,'rerepetition']= f'{res[\"rerepetition\"][i][0]}'\n",
    "            test.loc[idx,'restimulus']= f'{res[\"restimulus\"][i][0]-1}' "
   ]
  },
  {
   "cell_type": "code",
   "execution_count": null,
   "id": "66b1b599",
   "metadata": {},
   "outputs": [],
   "source": [
    "test.to_pickle('nina_db2_test.pk2')"
   ]
  },
  {
   "cell_type": "code",
   "execution_count": null,
   "id": "eb316b6f",
   "metadata": {},
   "outputs": [],
   "source": [
    "pd.read_pickle('nina_db2_train.pk1')"
   ]
  }
 ],
 "metadata": {
  "kernelspec": {
   "display_name": "Python 3 (ipykernel)",
   "language": "python",
   "name": "python3"
  },
  "language_info": {
   "codemirror_mode": {
    "name": "ipython",
    "version": 3
   },
   "file_extension": ".py",
   "mimetype": "text/x-python",
   "name": "python",
   "nbconvert_exporter": "python",
   "pygments_lexer": "ipython3",
   "version": "3.10.9"
  }
 },
 "nbformat": 4,
 "nbformat_minor": 5
}
