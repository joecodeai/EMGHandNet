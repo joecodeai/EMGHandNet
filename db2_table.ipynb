{
 "cells": [
  {
   "cell_type": "code",
   "execution_count": 11,
   "id": "789d05b0",
   "metadata": {},
   "outputs": [],
   "source": [
    "import scipy.io\n",
    "import numpy as np\n",
    "import pandas as pd\n",
    "\n",
    "ac = ['subject', 'exercise', 'acc', 'emg', 'stimulus', 'restimulus', 'repetition','rerepetition', 'force', 'forcecal']\n",
    "\n",
    "mat_data = scipy.io.loadmat('S1_E3_A1.mat')\n",
    "    \n",
    "for d in ac:\n",
    "    array_2d = mat_data[d]\n",
    "    array_1d = np.ravel(array_2d)\n",
    "    mat_data[d] = array_1d\n",
    "\n",
    "data = pd.Series(mat_data)\n",
    "\n",
    "\n",
    "df = pd.DataFrame(data).transpose()\n",
    "\n",
    "df.to_csv('example.csv', index=False)\n",
    "\n",
    "#aa = pd.read_csv(\"example.csv\")\n",
    "\n",
    "# array_2d_stimulus = mat_data['stimulus']\n",
    "# array_1d_stimulus = np.ravel(array_2d_stimulus)\n",
    "# mat_data['stimulus'] = array_1d_stimulus\n",
    "\n",
    "# aa = pd.Series({'Emg': array_1d,'Stimulus': array_1d_stimulus})\n",
    "\n",
    "# aa.to_csv('example.csv', index=False)\n"
   ]
  },
  {
   "cell_type": "code",
   "execution_count": 20,
   "id": "ffa5efb4",
   "metadata": {},
   "outputs": [
    {
     "data": {
      "text/html": [
       "<div>\n",
       "<style scoped>\n",
       "    .dataframe tbody tr th:only-of-type {\n",
       "        vertical-align: middle;\n",
       "    }\n",
       "\n",
       "    .dataframe tbody tr th {\n",
       "        vertical-align: top;\n",
       "    }\n",
       "\n",
       "    .dataframe thead th {\n",
       "        text-align: right;\n",
       "    }\n",
       "</style>\n",
       "<table border=\"1\" class=\"dataframe\">\n",
       "  <thead>\n",
       "    <tr style=\"text-align: right;\">\n",
       "      <th></th>\n",
       "      <th>__header__</th>\n",
       "      <th>__version__</th>\n",
       "      <th>__globals__</th>\n",
       "      <th>emg</th>\n",
       "      <th>acc</th>\n",
       "      <th>stimulus</th>\n",
       "      <th>glove</th>\n",
       "      <th>inclin</th>\n",
       "      <th>subject</th>\n",
       "      <th>exercise</th>\n",
       "      <th>repetition</th>\n",
       "      <th>restimulus</th>\n",
       "      <th>rerepetition</th>\n",
       "    </tr>\n",
       "  </thead>\n",
       "  <tbody>\n",
       "    <tr>\n",
       "      <th>0</th>\n",
       "      <td>b'MATLAB 5.0 MAT-file, Platform: GLNXA64, Crea...</td>\n",
       "      <td>1.0</td>\n",
       "      <td>[]</td>\n",
       "      <td>[-2.8512097e-06, 3.3552608e-06, 1.598866e-06, ...</td>\n",
       "      <td>[0.14023736, 0.9540544, 0.27923268, 0.03530204...</td>\n",
       "      <td>[0, 0, 0, 0, 0, 0, 0, 0, 0, 0, 0, 0, 0, 0, 0, ...</td>\n",
       "      <td>[63.02556, 6.871781, 13.948268, -3.736244, 34....</td>\n",
       "      <td>[60.42475, -0.61025, 60.42475, -0.6090038, 60....</td>\n",
       "      <td>[1]</td>\n",
       "      <td>[1]</td>\n",
       "      <td>[0, 0, 0, 0, 0, 0, 0, 0, 0, 0, 0, 0, 0, 0, 0, ...</td>\n",
       "      <td>[0, 0, 0, 0, 0, 0, 0, 0, 0, 0, 0, 0, 0, 0, 0, ...</td>\n",
       "      <td>[1, 1, 1, 1, 1, 1, 1, 1, 1, 1, 1, 1, 1, 1, 1, ...</td>\n",
       "    </tr>\n",
       "  </tbody>\n",
       "</table>\n",
       "</div>"
      ],
      "text/plain": [
       "                                          __header__ __version__ __globals__  \\\n",
       "0  b'MATLAB 5.0 MAT-file, Platform: GLNXA64, Crea...         1.0          []   \n",
       "\n",
       "                                                 emg  \\\n",
       "0  [-2.8512097e-06, 3.3552608e-06, 1.598866e-06, ...   \n",
       "\n",
       "                                                 acc  \\\n",
       "0  [0.14023736, 0.9540544, 0.27923268, 0.03530204...   \n",
       "\n",
       "                                            stimulus  \\\n",
       "0  [0, 0, 0, 0, 0, 0, 0, 0, 0, 0, 0, 0, 0, 0, 0, ...   \n",
       "\n",
       "                                               glove  \\\n",
       "0  [63.02556, 6.871781, 13.948268, -3.736244, 34....   \n",
       "\n",
       "                                              inclin subject exercise  \\\n",
       "0  [60.42475, -0.61025, 60.42475, -0.6090038, 60....     [1]      [1]   \n",
       "\n",
       "                                          repetition  \\\n",
       "0  [0, 0, 0, 0, 0, 0, 0, 0, 0, 0, 0, 0, 0, 0, 0, ...   \n",
       "\n",
       "                                          restimulus  \\\n",
       "0  [0, 0, 0, 0, 0, 0, 0, 0, 0, 0, 0, 0, 0, 0, 0, ...   \n",
       "\n",
       "                                        rerepetition  \n",
       "0  [1, 1, 1, 1, 1, 1, 1, 1, 1, 1, 1, 1, 1, 1, 1, ...  "
      ]
     },
     "execution_count": 20,
     "metadata": {},
     "output_type": "execute_result"
    }
   ],
   "source": [
    "df"
   ]
  },
  {
   "cell_type": "code",
   "execution_count": 52,
   "id": "fafa1a98",
   "metadata": {},
   "outputs": [],
   "source": [
    "import scipy.io\n",
    "import numpy as np\n",
    "import pandas as pd\n",
    "\n",
    "ac = ['subject', 'exercise', 'acc', 'emg', 'stimulus', 'restimulus', 'repetition','rerepetition', 'inclin', 'glove']\n",
    "#ac = ['subject', 'exercise', 'emg', 'stimulus', 'restimulus', 'repetition','rerepetition']\n",
    "\n",
    "mat_data = scipy.io.loadmat('S1_E1_A1.mat')\n",
    "#mat_data = scipy.io.loadmat('Db1/S1_A1_E1.mat')\n",
    "    \n",
    "for d in ac:\n",
    "    array_2d = mat_data[d]\n",
    "    array_1d = np.ravel(array_2d)\n",
    "    mat_data[d] = array_1d\n",
    "\n",
    "data = pd.Series(mat_data)\n",
    "\n",
    "\n",
    "df = pd.DataFrame(data).transpose()\n",
    "\n",
    "df.to_csv('example.csv', index=False)\n",
    "\n",
    "#aa = pd.read_csv(\"example-1.csv\")\n",
    "\n",
    "# array_2d_stimulus = mat_data['stimulus']\n",
    "# array_1d_stimulus = np.ravel(array_2d_stimulus)\n",
    "# mat_data['stimulus'] = array_1d_stimulus\n",
    "\n",
    "# aa = pd.Series({'Emg': array_1d,'Stimulus': array_1d_stimulus})\n",
    "\n",
    "# aa.to_csv('example.csv', index=False)\n"
   ]
  },
  {
   "cell_type": "code",
   "execution_count": 53,
   "id": "117e2279",
   "metadata": {
    "scrolled": true
   },
   "outputs": [
    {
     "data": {
      "text/html": [
       "<div>\n",
       "<style scoped>\n",
       "    .dataframe tbody tr th:only-of-type {\n",
       "        vertical-align: middle;\n",
       "    }\n",
       "\n",
       "    .dataframe tbody tr th {\n",
       "        vertical-align: top;\n",
       "    }\n",
       "\n",
       "    .dataframe thead th {\n",
       "        text-align: right;\n",
       "    }\n",
       "</style>\n",
       "<table border=\"1\" class=\"dataframe\">\n",
       "  <thead>\n",
       "    <tr style=\"text-align: right;\">\n",
       "      <th></th>\n",
       "      <th>__header__</th>\n",
       "      <th>__version__</th>\n",
       "      <th>__globals__</th>\n",
       "      <th>emg</th>\n",
       "      <th>acc</th>\n",
       "      <th>stimulus</th>\n",
       "      <th>glove</th>\n",
       "      <th>inclin</th>\n",
       "      <th>subject</th>\n",
       "      <th>exercise</th>\n",
       "      <th>repetition</th>\n",
       "      <th>restimulus</th>\n",
       "      <th>rerepetition</th>\n",
       "    </tr>\n",
       "  </thead>\n",
       "  <tbody>\n",
       "    <tr>\n",
       "      <th>0</th>\n",
       "      <td>b'MATLAB 5.0 MAT-file, Platform: GLNXA64, Crea...</td>\n",
       "      <td>1.0</td>\n",
       "      <td>[]</td>\n",
       "      <td>[-2.8512097e-06, 3.3552608e-06, 1.598866e-06, ...</td>\n",
       "      <td>[0.14023736, 0.9540544, 0.27923268, 0.03530204...</td>\n",
       "      <td>[0, 0, 0, 0, 0, 0, 0, 0, 0, 0, 0, 0, 0, 0, 0, ...</td>\n",
       "      <td>[63.02556, 6.871781, 13.948268, -3.736244, 34....</td>\n",
       "      <td>[60.42475, -0.61025, 60.42475, -0.6090038, 60....</td>\n",
       "      <td>[1]</td>\n",
       "      <td>[1]</td>\n",
       "      <td>[0, 0, 0, 0, 0, 0, 0, 0, 0, 0, 0, 0, 0, 0, 0, ...</td>\n",
       "      <td>[0, 0, 0, 0, 0, 0, 0, 0, 0, 0, 0, 0, 0, 0, 0, ...</td>\n",
       "      <td>[1, 1, 1, 1, 1, 1, 1, 1, 1, 1, 1, 1, 1, 1, 1, ...</td>\n",
       "    </tr>\n",
       "  </tbody>\n",
       "</table>\n",
       "</div>"
      ],
      "text/plain": [
       "                                          __header__ __version__ __globals__  \\\n",
       "0  b'MATLAB 5.0 MAT-file, Platform: GLNXA64, Crea...         1.0          []   \n",
       "\n",
       "                                                 emg  \\\n",
       "0  [-2.8512097e-06, 3.3552608e-06, 1.598866e-06, ...   \n",
       "\n",
       "                                                 acc  \\\n",
       "0  [0.14023736, 0.9540544, 0.27923268, 0.03530204...   \n",
       "\n",
       "                                            stimulus  \\\n",
       "0  [0, 0, 0, 0, 0, 0, 0, 0, 0, 0, 0, 0, 0, 0, 0, ...   \n",
       "\n",
       "                                               glove  \\\n",
       "0  [63.02556, 6.871781, 13.948268, -3.736244, 34....   \n",
       "\n",
       "                                              inclin subject exercise  \\\n",
       "0  [60.42475, -0.61025, 60.42475, -0.6090038, 60....     [1]      [1]   \n",
       "\n",
       "                                          repetition  \\\n",
       "0  [0, 0, 0, 0, 0, 0, 0, 0, 0, 0, 0, 0, 0, 0, 0, ...   \n",
       "\n",
       "                                          restimulus  \\\n",
       "0  [0, 0, 0, 0, 0, 0, 0, 0, 0, 0, 0, 0, 0, 0, 0, ...   \n",
       "\n",
       "                                        rerepetition  \n",
       "0  [1, 1, 1, 1, 1, 1, 1, 1, 1, 1, 1, 1, 1, 1, 1, ...  "
      ]
     },
     "execution_count": 53,
     "metadata": {},
     "output_type": "execute_result"
    }
   ],
   "source": [
    "df"
   ]
  },
  {
   "cell_type": "code",
   "execution_count": 43,
   "id": "dbbe2879",
   "metadata": {},
   "outputs": [
    {
     "data": {
      "text/plain": [
       "101014"
      ]
     },
     "execution_count": 43,
     "metadata": {},
     "output_type": "execute_result"
    }
   ],
   "source": [
    "len(mat_data['repetition']) #db1"
   ]
  },
  {
   "cell_type": "code",
   "execution_count": 55,
   "id": "aa2b4d99",
   "metadata": {},
   "outputs": [
    {
     "data": {
      "text/plain": [
       "1808331"
      ]
     },
     "execution_count": 55,
     "metadata": {},
     "output_type": "execute_result"
    }
   ],
   "source": [
    "len(mat_data['stimulus']) #db2"
   ]
  },
  {
   "cell_type": "code",
   "execution_count": 50,
   "id": "48f64176",
   "metadata": {},
   "outputs": [
    {
     "data": {
      "text/plain": [
       "1010140"
      ]
     },
     "execution_count": 50,
     "metadata": {},
     "output_type": "execute_result"
    }
   ],
   "source": [
    "len(mat_data['emg']) #db1"
   ]
  },
  {
   "cell_type": "code",
   "execution_count": 33,
   "id": "25ad4594",
   "metadata": {},
   "outputs": [
    {
     "data": {
      "text/plain": [
       "21699972"
      ]
     },
     "execution_count": 33,
     "metadata": {},
     "output_type": "execute_result"
    }
   ],
   "source": [
    "len(mat_data['emg']) #db2"
   ]
  },
  {
   "cell_type": "code",
   "execution_count": 51,
   "id": "09204caf",
   "metadata": {},
   "outputs": [
    {
     "data": {
      "text/plain": [
       "101014"
      ]
     },
     "execution_count": 51,
     "metadata": {},
     "output_type": "execute_result"
    }
   ],
   "source": [
    "len(mat_data['glove']) #db1"
   ]
  },
  {
   "cell_type": "code",
   "execution_count": 54,
   "id": "90ca2984",
   "metadata": {},
   "outputs": [
    {
     "data": {
      "text/plain": [
       "39783282"
      ]
     },
     "execution_count": 54,
     "metadata": {},
     "output_type": "execute_result"
    }
   ],
   "source": [
    "len(mat_data['glove']) #db2"
   ]
  }
 ],
 "metadata": {
  "kernelspec": {
   "display_name": "Python 3 (ipykernel)",
   "language": "python",
   "name": "python3"
  },
  "language_info": {
   "codemirror_mode": {
    "name": "ipython",
    "version": 3
   },
   "file_extension": ".py",
   "mimetype": "text/x-python",
   "name": "python",
   "nbconvert_exporter": "python",
   "pygments_lexer": "ipython3",
   "version": "3.10.9"
  }
 },
 "nbformat": 4,
 "nbformat_minor": 5
}
