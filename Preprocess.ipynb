{
 "cells": [
  {
   "cell_type": "code",
   "execution_count": 2,
   "id": "cbb745d6",
   "metadata": {},
   "outputs": [],
   "source": [
    "from scipy.io import loadmat\n",
    "import pandas as pd\n",
    "import numpy as np\n",
    "import matplotlib.pyplot as plt\n",
    "import os"
   ]
  },
  {
   "cell_type": "code",
   "execution_count": 3,
   "id": "1f7f9542",
   "metadata": {},
   "outputs": [],
   "source": [
    "dir_path = r'C:\\Users\\user\\Downloads\\DB2_s1.zip\\DB2_s1'\n",
    "file_path_list = []\n",
    "dir_list = []\n",
    "file_type = []\n",
    "for (root, directories, files) in os.walk(dir_path):\n",
    "    for d in directories:\n",
    "        d_path = os.path.join(root,d)\n",
    "        dir_list.append(d)\n",
    "        print(d)\n",
    "        \n",
    "    for file in files:\n",
    "        file_path = os.path.join(root,file)\n",
    "        file_path_list.append(file_path)\n",
    "        if (\"E3_A1\" in file):\n",
    "            file_type.append(\"E3\")\n",
    "        elif (\"E2_A1\" in file):\n",
    "            file_type.append(\"E2\")\n",
    "        else:\n",
    "            file_type.append(\"E1\")\n",
    "        print(file_path)"
   ]
  },
  {
   "cell_type": "code",
   "execution_count": 4,
   "id": "8ceb6ad8",
   "metadata": {},
   "outputs": [],
   "source": [
    "train = pd.DataFrame(columns=['emg','stimulus','repetition','subject','rerepetition','restimulus'])\n",
    "test = pd.DataFrame(columns=['emg','stimulus','repetition','subject','rerepetition','restimulus'])"
   ]
  },
  {
   "cell_type": "code",
   "execution_count": 5,
   "id": "b732754c",
   "metadata": {},
   "outputs": [],
   "source": [
    "now = 100;\n",
    "start=0;\n",
    "end = 0;\n",
    "idx=-1;"
   ]
  },
  {
   "cell_type": "code",
   "execution_count": 7,
   "id": "542d101d",
   "metadata": {},
   "outputs": [],
   "source": [
    "for j,file_path in enumerate(file_path_list):\n",
    "    res = loadmat(file_path)\n",
    "    for i in range(len(res['emg'])-1):\n",
    "        if(res['stimulus'][i][0] != now):\n",
    "            now = res['stimulus'][i][0]\n",
    "            start= i\n",
    "        if(res['stimulus'][i+1][0] != now and now !=0 and (res['repetition'][i] not in (2,5,7) )):\n",
    "            idx+=1\n",
    "            train.loc[idx,'emg']=res['emg'][start:i]\n",
    "            if (file_type[j]==\"E3\"):\n",
    "                now = now+29\n",
    "            elif (file_type[j]==\"E2\"):\n",
    "                now = now+12\n",
    "            train.loc[idx,'stimulus']=now-1\n",
    "            train.loc[idx,'repetition']= f'{res[\"repetition\"][i][0]}'\n",
    "            train.loc[idx,'subject'] = f'subject{int(j/3)+1}'    \n",
    "            train.loc[idx,'rerepetition']= f'{res[\"rerepetition\"][i][0]}'\n",
    "            train.loc[idx,'restimulus']= f'{res[\"restimulus\"][i][0]-1}'  "
   ]
  },
  {
   "cell_type": "code",
   "execution_count": 8,
   "id": "1a8e5ae8",
   "metadata": {},
   "outputs": [],
   "source": [
    "train.to_pickle('nina_db2_train.pk1')"
   ]
  },
  {
   "cell_type": "code",
   "execution_count": 9,
   "id": "52bbab7e",
   "metadata": {},
   "outputs": [],
   "source": [
    "now = 100;\n",
    "start=0;\n",
    "end = 0;\n",
    "idx=-1;"
   ]
  },
  {
   "cell_type": "code",
   "execution_count": 10,
   "id": "e7de8886",
   "metadata": {},
   "outputs": [],
   "source": [
    "for j,file_path in enumerate(file_path_list):\n",
    "    res = loadmat(file_path)\n",
    "    for i in range(len(res['emg'])-1):\n",
    "        if(res['stimulus'][i][0] != now):\n",
    "            now = res['stimulus'][i][0]\n",
    "            start= i\n",
    "        if(res['stimulus'][i+1][0] != now and now !=0 and (res['repetition'][i] not in (1,3,4,6,8,9,10) )):\n",
    "            idx+=1\n",
    "            test.loc[idx,'emg']=res['emg'][start:i]\n",
    "            if (file_type[j]==\"E3\"):\n",
    "                now = now+29\n",
    "            elif (file_type[j]==\"E2\"):\n",
    "                now = now+12\n",
    "            test.loc[idx,'stimulus']=now-1\n",
    "            test.loc[idx,'repetition']= f'{res[\"repetition\"][i][0]}'\n",
    "            test.loc[idx,'subject'] = f'subject{int(j/3)+1}'    \n",
    "            test.loc[idx,'rerepetition']= f'{res[\"rerepetition\"][i][0]}'\n",
    "            test.loc[idx,'restimulus']= f'{res[\"restimulus\"][i][0]-1}' "
   ]
  },
  {
   "cell_type": "code",
   "execution_count": 11,
   "id": "66b1b599",
   "metadata": {},
   "outputs": [],
   "source": [
    "test.to_pickle('nine_db2_test.pk2')"
   ]
  }
 ],
 "metadata": {
  "kernelspec": {
   "display_name": "Python 3 (ipykernel)",
   "language": "python",
   "name": "python3"
  },
  "language_info": {
   "codemirror_mode": {
    "name": "ipython",
    "version": 3
   },
   "file_extension": ".py",
   "mimetype": "text/x-python",
   "name": "python",
   "nbconvert_exporter": "python",
   "pygments_lexer": "ipython3",
   "version": "3.10.9"
  }
 },
 "nbformat": 4,
 "nbformat_minor": 5
}
