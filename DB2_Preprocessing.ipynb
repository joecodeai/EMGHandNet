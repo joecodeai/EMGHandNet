{
 "cells": [
  {
   "cell_type": "code",
   "execution_count": 1,
   "id": "7d1cb146",
   "metadata": {},
   "outputs": [
    {
     "name": "stdout",
     "output_type": "stream",
     "text": [
      "Final Data Shape: (207713115, 15)\n"
     ]
    }
   ],
   "source": [
    "import os\n",
    "import numpy as np\n",
    "import h5py\n",
    "from scipy.io import loadmat\n",
    "\n",
    "# Define the path to save the HDF5 file on the D drive\n",
    "hdf5_path = r'D:\\emg_data_final.h5'\n",
    "\n",
    "# Define the path to the data\n",
    "path = r'C:\\Users\\user\\Desktop\\DB2_Extract\\DB2_All'\n",
    "S_range = range(1, 41)\n",
    "E_range = range(1, 4)\n",
    "\n",
    "# Function to load and process a single file\n",
    "def load_file_data(i, j):\n",
    "    filename = f\"S{i}_E{j}_A1.mat\"\n",
    "    file_path = os.path.join(path, filename)\n",
    "    if os.path.exists(file_path):\n",
    "        data = loadmat(file_path)\n",
    "        emg_data = data['emg'].astype(np.float16)\n",
    "        stimulus_data = data['stimulus'].astype(np.float16)\n",
    "        repetition_data = data['repetition'].astype(np.float16)\n",
    "        num_samples = emg_data.shape[0]\n",
    "        subject = np.full((num_samples, 1), i, dtype=np.float16)\n",
    "        final = np.hstack((emg_data, stimulus_data, repetition_data, subject))\n",
    "        return final\n",
    "    return None\n",
    "\n",
    "# Load and process all files\n",
    "results = []\n",
    "for i in S_range:\n",
    "    for j in E_range:\n",
    "        result = load_file_data(i, j)\n",
    "        if result is not None:\n",
    "            results.append(result)\n",
    "\n",
    "# Combine all results\n",
    "if results:\n",
    "    final_combined = np.vstack(results)\n",
    "\n",
    "    # Write the combined data to an HDF5 file\n",
    "    with h5py.File(hdf5_path, 'w') as hdf5_file:\n",
    "        hdf5_file.create_dataset('final', data=final_combined, chunks=True)\n",
    "\n",
    "    # Now you can load the final data from the HDF5 file as needed\n",
    "    with h5py.File(hdf5_path, 'r') as hdf5_file:\n",
    "        final = np.array(hdf5_file['final'])\n",
    "\n",
    "    print(\"Final Data Shape:\", final.shape)\n",
    "else:\n",
    "    print(\"No valid data files found.\")"
   ]
  },
  {
   "cell_type": "code",
   "execution_count": null,
   "id": "5c1f6c20",
   "metadata": {},
   "outputs": [],
   "source": [
    "# del emg_data, stimulus_data, repetition_data, subject "
   ]
  },
  {
   "cell_type": "code",
   "execution_count": null,
   "id": "e6b171f6",
   "metadata": {
    "scrolled": true
   },
   "outputs": [],
   "source": [
    "# subject = subject.reshape(-1,1)"
   ]
  },
  {
   "cell_type": "code",
   "execution_count": null,
   "id": "8d6ba8ce",
   "metadata": {},
   "outputs": [],
   "source": [
    "# final = np.hstack((emg_data,stimulus_data,repetition_data,subject)).astype(np.float16)\n",
    "# final"
   ]
  },
  {
   "cell_type": "code",
   "execution_count": 2,
   "id": "f5f1e24c",
   "metadata": {},
   "outputs": [
    {
     "name": "stdout",
     "output_type": "stream",
     "text": [
      "[ 0.  1.  2.  3.  4.  5.  6.  7.  8.  9. 10. 11. 12. 13. 14. 15. 16. 17.\n",
      " 18. 19. 20. 21. 22. 23. 24. 25. 26. 27. 28. 29. 30. 31. 32. 33. 34. 35.\n",
      " 36. 37. 38. 39. 40. 41. 42. 43. 44. 45. 46. 47. 48. 49.]\n"
     ]
    }
   ],
   "source": [
    "print(np.unique(final[:,-3]))"
   ]
  },
  {
   "cell_type": "code",
   "execution_count": 3,
   "id": "1cf651a8",
   "metadata": {},
   "outputs": [
    {
     "name": "stdout",
     "output_type": "stream",
     "text": [
      "[ 1.  2.  3.  4.  5.  6.  7.  8.  9. 10. 11. 12. 13. 14. 15. 16. 17. 18.\n",
      " 19. 20. 21. 22. 23. 24. 25. 26. 27. 28. 29. 30. 31. 32. 33. 34. 35. 36.\n",
      " 37. 38. 39. 40.]\n"
     ]
    }
   ],
   "source": [
    "print(np.unique(final[:,-1]))"
   ]
  },
  {
   "cell_type": "code",
   "execution_count": 4,
   "id": "0acdc0c0",
   "metadata": {},
   "outputs": [],
   "source": [
    "def keep_rows_with_values(array, column_index, values_to_remove):\n",
    "    mask = np.isin(array[:, column_index], values_to_remove)\n",
    "    filtered_array = array[mask]\n",
    "    filtered_array = filtered_array.astype(float)\n",
    "    return filtered_array"
   ]
  },
  {
   "cell_type": "code",
   "execution_count": 5,
   "id": "0b62ed19",
   "metadata": {},
   "outputs": [],
   "source": [
    "train = 0\n",
    "test = 0\n",
    "repetition_data=0\n",
    "stimulus_data=0\n",
    "emg_data=0\n",
    "sunject=0"
   ]
  },
  {
   "cell_type": "code",
   "execution_count": 6,
   "id": "8e83763e",
   "metadata": {},
   "outputs": [],
   "source": [
    "train = keep_rows_with_values(final,13,[1,3,4,6])"
   ]
  },
  {
   "cell_type": "code",
   "execution_count": 7,
   "id": "eea2ca39",
   "metadata": {},
   "outputs": [],
   "source": [
    "test = keep_rows_with_values(final,13,[2,5])"
   ]
  },
  {
   "cell_type": "code",
   "execution_count": 8,
   "id": "a698c1da",
   "metadata": {},
   "outputs": [],
   "source": [
    "train = train.astype(np.float16)"
   ]
  },
  {
   "cell_type": "code",
   "execution_count": 9,
   "id": "5a30144a",
   "metadata": {},
   "outputs": [],
   "source": [
    "test = test.astype(np.float16)"
   ]
  },
  {
   "cell_type": "code",
   "execution_count": 10,
   "id": "ba860567",
   "metadata": {},
   "outputs": [
    {
     "name": "stdout",
     "output_type": "stream",
     "text": [
      "Train Final Shape: (78400000, 15)\n"
     ]
    }
   ],
   "source": [
    "import numpy as np\n",
    "\n",
    "# Assuming 'train' is your input array\n",
    "# For the sake of the example, we'll assume 'train' has a shape of (n, 15)\n",
    "\n",
    "train_final_list = []\n",
    "max_samples = 10000\n",
    "\n",
    "# Precompute unique values to avoid recomputation inside the loops\n",
    "unique_subjects = np.unique(train[:, -3])\n",
    "unique_k = np.unique(train[:, -1])\n",
    "\n",
    "# Create a boolean mask for all conditions\n",
    "mask_i = np.isin(train[:, -3], unique_subjects)\n",
    "mask_j = np.isin(train[:, -2], [1, 3, 4, 6])\n",
    "mask_combined = mask_i & mask_j\n",
    "\n",
    "# Filter the train array once based on the combined mask\n",
    "filtered_train = train[mask_combined]\n",
    "\n",
    "# Iterate over unique subjects\n",
    "for i in unique_subjects:\n",
    "    selection = filtered_train[filtered_train[:, -3] == i]\n",
    "    \n",
    "    # Iterate over the selected conditions\n",
    "    for j in [1, 3, 4, 6]:\n",
    "        new_selection = selection[selection[:, -2] == j]\n",
    "        \n",
    "        # Iterate over unique k values\n",
    "        for k in unique_k:\n",
    "            k_selection = new_selection[new_selection[:, -1] == k]\n",
    "            num_samples = k_selection.shape[0]\n",
    "            \n",
    "            if num_samples >= max_samples:\n",
    "                data = k_selection[:max_samples]\n",
    "            else:\n",
    "                # Preallocate and pad with zeros if necessary\n",
    "                data = np.zeros((max_samples, 15), dtype=np.float16)\n",
    "                data[:num_samples] = k_selection\n",
    "            \n",
    "            train_final_list.append(data)\n",
    "\n",
    "# Use np.vstack to concatenate the final list of arrays\n",
    "train_final = np.vstack(train_final_list)\n",
    "\n",
    "print(\"Train Final Shape:\", train_final.shape)"
   ]
  },
  {
   "cell_type": "code",
   "execution_count": 11,
   "id": "ce1f357f",
   "metadata": {},
   "outputs": [
    {
     "data": {
      "text/plain": [
       "array([ 0.,  1.,  2.,  3.,  4.,  5.,  6.,  7.,  8.,  9., 10., 11., 12.,\n",
       "       13., 14., 15., 16., 17., 18., 19., 20., 21., 22., 23., 24., 25.,\n",
       "       26., 27., 28., 29., 30., 31., 32., 33., 34., 35., 36., 37., 38.,\n",
       "       39., 40.], dtype=float16)"
      ]
     },
     "execution_count": 11,
     "metadata": {},
     "output_type": "execute_result"
    }
   ],
   "source": [
    "np.unique(train_final[:,-1])"
   ]
  },
  {
   "cell_type": "code",
   "execution_count": 12,
   "id": "33d56710",
   "metadata": {},
   "outputs": [
    {
     "name": "stdout",
     "output_type": "stream",
     "text": [
      "Test Final Shape: (39200000, 15)\n"
     ]
    }
   ],
   "source": [
    "import numpy as np\n",
    "\n",
    "# Assuming 'test' is your input array\n",
    "# For the sake of the example, we'll assume 'test' has a shape of (n, 15)\n",
    "\n",
    "test_final_list = []\n",
    "max_samples = 10000\n",
    "\n",
    "# Precompute unique values to avoid recomputation inside the loops\n",
    "unique_subjects = np.unique(test[:, -3])\n",
    "unique_k = np.unique(test[:, -1])\n",
    "\n",
    "# Create a boolean mask for all conditions\n",
    "mask_i = np.isin(test[:, -3], unique_subjects)\n",
    "mask_j = np.isin(test[:, -2], [2, 5])\n",
    "mask_combined = mask_i & mask_j\n",
    "\n",
    "# Filter the test array once based on the combined mask\n",
    "filtered_test = test[mask_combined]\n",
    "\n",
    "# Iterate over unique subjects\n",
    "for i in unique_subjects:\n",
    "    selection = filtered_test[filtered_test[:, -3] == i]\n",
    "    \n",
    "    # Iterate over the selected conditions\n",
    "    for j in [2, 5]:\n",
    "        new_selection = selection[selection[:, -2] == j]\n",
    "        \n",
    "        # Iterate over unique k values\n",
    "        for k in unique_k:\n",
    "            k_selection = new_selection[new_selection[:, -1] == k]\n",
    "            num_samples = k_selection.shape[0]\n",
    "            \n",
    "            if num_samples >= max_samples:\n",
    "                data = k_selection[:max_samples]\n",
    "            else:\n",
    "                # Preallocate and pad with zeros if necessary\n",
    "                data = np.zeros((max_samples, 15), dtype=np.float32)\n",
    "                data[:num_samples] = k_selection\n",
    "            \n",
    "            test_final_list.append(data)\n",
    "\n",
    "# Use np.vstack to concatenate the final list of arrays\n",
    "test_final = np.vstack(test_final_list)\n",
    "\n",
    "print(\"Test Final Shape:\", test_final.shape)"
   ]
  },
  {
   "cell_type": "code",
   "execution_count": 13,
   "id": "839f1d5b",
   "metadata": {},
   "outputs": [],
   "source": [
    "train_final = train_final[:,:-1]\n",
    "test_final = test_final[:,:-1]"
   ]
  },
  {
   "cell_type": "code",
   "execution_count": 14,
   "id": "8159cc46",
   "metadata": {},
   "outputs": [
    {
     "data": {
      "text/plain": [
       "(array([ 1.,  1.,  1., ..., 49., 49., 49.], dtype=float16),\n",
       " array([ 1.,  1.,  1., ..., 49., 49., 49.], dtype=float32))"
      ]
     },
     "execution_count": 14,
     "metadata": {},
     "output_type": "execute_result"
    }
   ],
   "source": [
    "train_final[:,-2], test_final[:,-2]"
   ]
  },
  {
   "cell_type": "code",
   "execution_count": 15,
   "id": "22e4b07d",
   "metadata": {},
   "outputs": [
    {
     "data": {
      "text/plain": [
       "((78400000, 14), (39200000, 14))"
      ]
     },
     "execution_count": 15,
     "metadata": {},
     "output_type": "execute_result"
    }
   ],
   "source": [
    "train_final.shape, test_final.shape"
   ]
  },
  {
   "cell_type": "code",
   "execution_count": 16,
   "id": "4f033f47",
   "metadata": {},
   "outputs": [
    {
     "data": {
      "text/plain": [
       "(array([0., 1., 3., 4., 6.], dtype=float16),\n",
       " array([0., 2., 5.], dtype=float32))"
      ]
     },
     "execution_count": 16,
     "metadata": {},
     "output_type": "execute_result"
    }
   ],
   "source": [
    "np.unique(train_final[:,-1]), np.unique(test_final[:,-1])"
   ]
  },
  {
   "cell_type": "code",
   "execution_count": 17,
   "id": "743388d1",
   "metadata": {},
   "outputs": [],
   "source": [
    "Train_Class_Label = train_final[:,12]\n",
    "Test_Class_Label = test_final[:,12]"
   ]
  },
  {
   "cell_type": "code",
   "execution_count": 18,
   "id": "57aaf54a",
   "metadata": {},
   "outputs": [],
   "source": [
    "train_final = train_final[:,:-1]\n",
    "test_final = test_final[:,:-1]"
   ]
  },
  {
   "cell_type": "code",
   "execution_count": 19,
   "id": "cb7230ea",
   "metadata": {},
   "outputs": [],
   "source": [
    "train_final = train_final[:,:-1]\n",
    "test_final = test_final[:,:-1]"
   ]
  },
  {
   "cell_type": "code",
   "execution_count": 20,
   "id": "90c29ce3",
   "metadata": {},
   "outputs": [
    {
     "data": {
      "text/plain": [
       "((78400000, 12), (39200000, 12))"
      ]
     },
     "execution_count": 20,
     "metadata": {},
     "output_type": "execute_result"
    }
   ],
   "source": [
    "train_final.shape , test_final.shape"
   ]
  },
  {
   "cell_type": "code",
   "execution_count": 21,
   "id": "df647e0e",
   "metadata": {},
   "outputs": [],
   "source": [
    "np.savetxt(\"Train_Class_Label.csv\", Train_Class_Label , delimiter = ',', fmt='%f')\n",
    "np.savetxt(\"Test_Class_Label.csv\", Test_Class_Label, delimiter = ',', fmt='%f')\n",
    "np.savetxt(\"Train.csv\", train_final, delimiter = ',', fmt='%f')\n",
    "np.savetxt(\"Test.csv\", test_final, delimiter = ',', fmt='%f')"
   ]
  }
 ],
 "metadata": {
  "kernelspec": {
   "display_name": "Python 3",
   "language": "python",
   "name": "python3"
  },
  "language_info": {
   "codemirror_mode": {
    "name": "ipython",
    "version": 3
   },
   "file_extension": ".py",
   "mimetype": "text/x-python",
   "name": "python",
   "nbconvert_exporter": "python",
   "pygments_lexer": "ipython3",
   "version": "3.11.5"
  }
 },
 "nbformat": 4,
 "nbformat_minor": 5
}
