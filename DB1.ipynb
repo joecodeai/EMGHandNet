{
 "cells": [
  {
   "cell_type": "code",
   "execution_count": 3,
   "id": "10a0f590",
   "metadata": {},
   "outputs": [],
   "source": [
    "import scipy.io\n",
    "import pandas as pd\n",
    "mat = scipy.io.loadmat('S1_A1_E1.mat')"
   ]
  },
  {
   "cell_type": "code",
   "execution_count": null,
   "id": "cb67b440",
   "metadata": {},
   "outputs": [],
   "source": [
    "import numpy as np\n",
    "mat_data = scipy.io.loadmat('S1_A1_E1.mat')\n",
    "\n",
    "# Extract the 2D array from the loaded data\n",
    "array_2d = mat_data['emg']\n",
    "\n",
    "# Flatten the 2D array to 1D\n",
    "array_1d = np.ravel(array_2d)\n",
    "\n",
    "# Create a DataFrame from the flattened 1D array\n",
    "data = pd.DataFrame({'data': array_1d})\n",
    "\n",
    "# Save the DataFrame as a CSV file\n",
    "data.to_csv('example.csv', index=False)"
   ]
  },
  {
   "cell_type": "code",
   "execution_count": null,
   "id": "6dfa5749",
   "metadata": {},
   "outputs": [],
   "source": [
    "import pandas as pd\n",
    "import scipy.io\n",
    "\n",
    "# Load the MATLAB data\n",
    "mat_data = scipy.io.loadmat('S1_A1_E1.mat')\n",
    "\n",
    "# Create an empty dictionary to store flattened columns\n",
    "data = {}\n",
    "\n",
    "# Iterate over the columns in the loaded data\n",
    "for col in mat_data:\n",
    "    data[col] = np.ravel(data.items())  # Flatten each column and assign to the dictionary\n",
    "\n",
    "# Create a DataFrame from the flattened columns\n",
    "df = pd.DataFrame(data)\n",
    "\n",
    "# Save the DataFrame as a CSV file\n",
    "df.to_csv('example.csv', index=False)\n"
   ]
  },
  {
   "cell_type": "code",
   "execution_count": null,
   "id": "457c60cf",
   "metadata": {},
   "outputs": [],
   "source": [
    "df"
   ]
  }
 ],
 "metadata": {
  "kernelspec": {
   "display_name": "Python 3 (ipykernel)",
   "language": "python",
   "name": "python3"
  },
  "language_info": {
   "codemirror_mode": {
    "name": "ipython",
    "version": 3
   },
   "file_extension": ".py",
   "mimetype": "text/x-python",
   "name": "python",
   "nbconvert_exporter": "python",
   "pygments_lexer": "ipython3",
   "version": "3.10.9"
  }
 },
 "nbformat": 4,
 "nbformat_minor": 5
}
